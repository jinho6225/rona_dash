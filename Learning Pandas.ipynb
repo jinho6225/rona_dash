{
 "cells": [
  {
   "cell_type": "code",
   "execution_count": 62,
   "metadata": {},
   "outputs": [
    {
     "data": {
      "text/plain": [
       "[63236804, 1467987, 40528816]"
      ]
     },
     "execution_count": 62,
     "metadata": {},
     "output_type": "execute_result"
    }
   ],
   "source": [
    "import pandas as pd\n",
    "import datetime\n",
    "\n",
    "x = datetime.datetime.now()\n",
    "daily_report = f\"{x.month}-{int(x.strftime('%d'))-1}-{x.year}\"\n",
    "daily_report = '11-30-2020'\n",
    "# print(daily_report)\n",
    "# #global confirmed, deaths, recovered\n",
    "url = f'https://raw.githubusercontent.com/CSSEGISandData/COVID-19/master/csse_covid_19_data/csse_covid_19_daily_reports/{daily_report}.csv'\n",
    "daily_df = pd.read_csv(url)\n",
    "# daily_df = pd.read_csv(f'data/{daily_report}-global.csv')\n",
    "totals_df = daily_df[['Confirmed', 'Deaths', 'Recovered']].sum().reset_index(name=\"count\")\n",
    "world_df = totals_df.rename(columns={'index': 'condition'})\n",
    "world_df = world_df.drop(['condition'], axis=1)\n",
    "df = pd.DataFrame(world_df)\n",
    "df\n",
    "total_death_count_list = df['count'].tolist()\n",
    "total_death_count_list\n",
    "\n"
   ]
  }
 ],
 "metadata": {
  "kernelspec": {
   "display_name": "Python 3",
   "language": "python",
   "name": "python3"
  },
  "language_info": {
   "codemirror_mode": {
    "name": "ipython",
    "version": 3
   },
   "file_extension": ".py",
   "mimetype": "text/x-python",
   "name": "python",
   "nbconvert_exporter": "python",
   "pygments_lexer": "ipython3",
   "version": "3.8.2"
  }
 },
 "nbformat": 4,
 "nbformat_minor": 4
}
