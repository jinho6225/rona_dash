{
 "cells": [
  {
   "cell_type": "code",
   "execution_count": 11,
   "metadata": {},
   "outputs": [
    {
     "name": "stdout",
     "output_type": "stream",
     "text": [
      "307\n"
     ]
    }
   ],
   "source": [
    "import pandas as pd\n",
    "import datetime\n",
    "\n",
    "df = pd.read_csv('data/time_series_covid19_confirmed_US.csv')\n",
    "df = df.drop(['UID', 'iso2', 'iso3', 'code3', 'FIPS', 'Admin2', 'Country_Region', 'Lat', 'Long_', 'Combined_Key'], axis=1)\n",
    "confirmed_df = df.groupby(\"Province_State\").sum().reset_index()\n",
    "daily_confirmed_record_by_state = confirmed_df.drop(['Province_State'], axis=1)\n",
    "daily_confirmed_record_by_state.head()\n",
    "\n",
    "df = pd.DataFrame(daily_confirmed_record_by_state)\n",
    "# iterating the columns \n",
    "lst = []\n",
    "date_lst = []\n",
    "for col in df.columns: \n",
    "    date_lst.append(col)\n",
    "    total_confirmed_count_list = df[col].tolist()   \n",
    "    lst.append(total_confirmed_count_list)\n",
    "\n"
   ]
  }
 ],
 "metadata": {
  "kernelspec": {
   "display_name": "Python 3",
   "language": "python",
   "name": "python3"
  },
  "language_info": {
   "codemirror_mode": {
    "name": "ipython",
    "version": 3
   },
   "file_extension": ".py",
   "mimetype": "text/x-python",
   "name": "python",
   "nbconvert_exporter": "python",
   "pygments_lexer": "ipython3",
   "version": "3.8.2"
  }
 },
 "nbformat": 4,
 "nbformat_minor": 4
}
