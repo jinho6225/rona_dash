{
 "cells": [
  {
   "cell_type": "code",
   "execution_count": 5,
   "metadata": {},
   "outputs": [
    {
     "data": {
      "text/plain": [
       "314"
      ]
     },
     "execution_count": 5,
     "metadata": {},
     "output_type": "execute_result"
    }
   ],
   "source": [
    "import pandas as pd\n",
    "import datetime \n",
    "\n",
    "conditions = ['confirmed', 'deaths']\n",
    "\n",
    "def getConfirmedByState(condition, state):\n",
    "    url = f'https://raw.githubusercontent.com/CSSEGISandData/COVID-19/master/csse_covid_19_data/csse_covid_19_time_series/time_series_covid19_{condition}_US.csv'\n",
    "    df = pd.read_csv(url, error_bad_lines=False)\n",
    "    # df = pd.read_csv('data/time_series_covid19_confirmed_US.csv')\n",
    "    if condition == 'deaths':\n",
    "        df = df.drop(['UID', 'iso2', 'iso3', 'code3', 'FIPS', 'Admin2', 'Country_Region', 'Lat', 'Long_', 'Combined_Key', 'Population'], axis=1)\n",
    "    else:\n",
    "        df = df.drop(['UID', 'iso2', 'iso3', 'code3', 'FIPS', 'Admin2', 'Country_Region', 'Lat', 'Long_', 'Combined_Key'], axis=1)\n",
    "    confirmed_df = df.groupby(\"Province_State\").sum().reset_index()\n",
    "    confirmed_df = confirmed_df.loc[confirmed_df['Province_State'] == state]\n",
    "    confirmed_df = confirmed_df.drop(['Province_State'], axis=1)\n",
    "    confirmed_df = confirmed_df.sum().reset_index(name=condition)\n",
    "    confirmed_data_by_state = confirmed_df.rename(columns={'index': 'date'})\n",
    "    return confirmed_data_by_state\n",
    "\n",
    "final_df = None\n",
    "\n",
    "for condition in conditions:\n",
    "    condition_df = getConfirmedByState(condition, 'Texas')\n",
    "    if final_df is None:\n",
    "        final_df = condition_df\n",
    "    else:\n",
    "        final_df = final_df.merge(condition_df)\n",
    "        \n",
    "date_list = final_df.drop(['confirmed', 'deaths'], axis=1)\n",
    "confirmed_list = final_df.drop(['date', 'deaths'], axis=1)\n",
    "deaths_list = final_df.drop(['date', 'confirmed'], axis=1)\n",
    "\n",
    "date_list = pd.DataFrame(date_list)   \n",
    "confirmed_list = pd.DataFrame(confirmed_list)   \n",
    "deaths_list = pd.DataFrame(deaths_list)   \n",
    "\n",
    "date_list = date_list['date'].tolist()   \n",
    "confirmed_list = confirmed_list['confirmed'].tolist()   \n",
    "deaths_list = deaths_list['deaths'].tolist()\n",
    "\n",
    "len(date_list)\n",
    "len(confirmed_list)\n",
    "len(deaths_list)"
   ]
  }
 ],
 "metadata": {
  "kernelspec": {
   "display_name": "Python 3",
   "language": "python",
   "name": "python3"
  },
  "language_info": {
   "codemirror_mode": {
    "name": "ipython",
    "version": 3
   },
   "file_extension": ".py",
   "mimetype": "text/x-python",
   "name": "python",
   "nbconvert_exporter": "python",
   "pygments_lexer": "ipython3",
   "version": "3.8.2"
  }
 },
 "nbformat": 4,
 "nbformat_minor": 4
}
