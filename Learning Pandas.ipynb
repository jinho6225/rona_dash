{
 "cells": [
  {
   "cell_type": "code",
   "execution_count": 7,
   "metadata": {},
   "outputs": [
    {
     "data": {
      "text/plain": [
       "'20'"
      ]
     },
     "execution_count": 7,
     "metadata": {},
     "output_type": "execute_result"
    }
   ],
   "source": [
    "import pandas as pd\n",
    "import datetime\n",
    "\n",
    "import pandas as pd\n",
    "import datetime\n",
    "\n",
    "tod = datetime.datetime.now()\n",
    "d = datetime.timedelta(days = 1)\n",
    "x = tod - d\n",
    "daily_report = f\"{x.strftime('%m')}-{(x.strftime('%d'))}-{x.year}\"\n",
    "# total confirmed count list / it needs to get max number for xaxis\n",
    "\n",
    "year = str(x.year)[2:]\n",
    "# daily_report = f\"{x.month}/{int(x.strftime('%d'))}/{year}\"\n",
    "daily_report\n",
    "year"
   ]
  }
 ],
 "metadata": {
  "kernelspec": {
   "display_name": "Python 3",
   "language": "python",
   "name": "python3"
  },
  "language_info": {
   "codemirror_mode": {
    "name": "ipython",
    "version": 3
   },
   "file_extension": ".py",
   "mimetype": "text/x-python",
   "name": "python",
   "nbconvert_exporter": "python",
   "pygments_lexer": "ipython3",
   "version": "3.8.2"
  }
 },
 "nbformat": 4,
 "nbformat_minor": 4
}
